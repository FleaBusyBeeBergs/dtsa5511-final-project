{
  "nbformat": 4,
  "nbformat_minor": 0,
  "metadata": {
    "colab": {
      "provenance": [],
      "authorship_tag": "ABX9TyNclK5DC9qYxk/K2G0PcafB",
      "include_colab_link": true
    },
    "kernelspec": {
      "name": "python3",
      "display_name": "Python 3"
    },
    "language_info": {
      "name": "python"
    }
  },
  "cells": [
    {
      "cell_type": "markdown",
      "metadata": {
        "id": "view-in-github",
        "colab_type": "text"
      },
      "source": [
        "<a href=\"https://colab.research.google.com/github/FleaBusyBeeBergs/dtsa5511-final-project/blob/main/dtsa5511_final_project.ipynb\" target=\"_parent\"><img src=\"https://colab.research.google.com/assets/colab-badge.svg\" alt=\"Open In Colab\"/></a>"
      ]
    },
    {
      "cell_type": "markdown",
      "source": [
        "# Predicting Bank of Canada interest rate changes\n",
        "DTSA5511 final project\n"
      ],
      "metadata": {
        "id": "HuaEdOCGbmPc"
      }
    },
    {
      "cell_type": "code",
      "execution_count": 1,
      "metadata": {
        "colab": {
          "base_uri": "https://localhost:8080/"
        },
        "id": "S9BRvXCVbRw6",
        "outputId": "a06a63bd-56a2-4650-f8ac-3f401f1a6e03"
      },
      "outputs": [
        {
          "output_type": "stream",
          "name": "stdout",
          "text": [
            "\u001b[2K   \u001b[90m━━━━━━━━━━━━━━━━━━━━━━━━━━━━━━━━━━━━━━━━\u001b[0m \u001b[32m4.3/4.3 MB\u001b[0m \u001b[31m25.7 MB/s\u001b[0m eta \u001b[36m0:00:00\u001b[0m\n",
            "\u001b[2K   \u001b[90m━━━━━━━━━━━━━━━━━━━━━━━━━━━━━━━━━━━━━━━━\u001b[0m \u001b[32m111.4/111.4 MB\u001b[0m \u001b[31m6.2 MB/s\u001b[0m eta \u001b[36m0:00:00\u001b[0m\n",
            "\u001b[2K   \u001b[90m━━━━━━━━━━━━━━━━━━━━━━━━━━━━━━━━━━━━━━━━\u001b[0m \u001b[32m10.1/10.1 MB\u001b[0m \u001b[31m71.7 MB/s\u001b[0m eta \u001b[36m0:00:00\u001b[0m\n",
            "\u001b[2K   \u001b[90m━━━━━━━━━━━━━━━━━━━━━━━━━━━━━━━━━━━━━━━━\u001b[0m \u001b[32m374.4/374.4 kB\u001b[0m \u001b[31m9.4 MB/s\u001b[0m eta \u001b[36m0:00:00\u001b[0m\n",
            "\u001b[2K   \u001b[90m━━━━━━━━━━━━━━━━━━━━━━━━━━━━━━━━━━━━━━━━\u001b[0m \u001b[32m99.2/99.2 MB\u001b[0m \u001b[31m8.0 MB/s\u001b[0m eta \u001b[36m0:00:00\u001b[0m\n",
            "\u001b[?25h"
          ]
        }
      ],
      "source": [
        "!pip install scikit-learn-intelex -q\n",
        "!pip install statsmodels==0.14.0 -q\n",
        "!pip install tslearn -q\n",
        "!pip install scikeras -q\n",
        "!pip install xgboost lightgbm catboost imbalanced-learn -q"
      ]
    },
    {
      "cell_type": "code",
      "source": [
        "# file handling & general\n",
        "import itertools\n",
        "import numpy as np\n",
        "import pandas as pd\n",
        "import os\n",
        "from google.colab import files\n",
        "import xml.etree.ElementTree as ET\n",
        "import warnings\n",
        "warnings.filterwarnings('ignore',\n",
        "                        message = '''.*'force_all_finite' was renamed to 'ensure_all_finite'.*''')\n",
        "from google.colab import files\n",
        "\n",
        "# http requests\n",
        "import requests\n",
        "\n",
        "# vis\n",
        "import matplotlib.pyplot as plt\n",
        "import matplotlib.dates as mdates\n",
        "import altair as alt\n",
        "import seaborn as sns\n",
        "\n"
      ],
      "metadata": {
        "id": "PD9Z51mScTa1"
      },
      "execution_count": 2,
      "outputs": []
    },
    {
      "cell_type": "markdown",
      "source": [
        "## 1 Introduction"
      ],
      "metadata": {
        "id": "uelrHqUpc15E"
      }
    },
    {
      "cell_type": "markdown",
      "source": [
        "This project was first created for dtsa 5506, data mining pipeling project. It initially compared a few supervised models and some unsupervised/clustering models, with a brief attempt at a neural network. This updated version of this project is to use deep learning to predict Bank of Canada interest rate changes before they are announced. Interest rates affect nearly everyone and changes to the prevailing rates affect many decisions not just in the long term, but in the short term as well.\n",
        "\n",
        "The bank of canada exercises counter-inflationary monetary policy by increasing interest to slow inflation, and decreasing interest to allow to avoid recession. To predict changes to the policy interest rate, it would be helpful to first model and predict inflation. The consumer price index is a common measure of inflation, and cpi time series is available from statistics canada.\n",
        "\n",
        "The use of deep learning is a fairly new tool for central banks in the last decade. Deep learning allows hundreds or even thousands of variables to be used in prediction models.\n",
        "\n",
        "This project is a classification? Regression? problem that involves time series, so will reuire the use of an LSTM or GRU\n"
      ],
      "metadata": {
        "id": "C6T5CcfNcsge"
      }
    },
    {
      "cell_type": "markdown",
      "source": [
        "### 1.1 The data"
      ],
      "metadata": {
        "id": "ShIT0dQmc0Cf"
      }
    },
    {
      "cell_type": "markdown",
      "source": [
        "The data was mined from the Statistics Canada database using XLM"
      ],
      "metadata": {
        "id": "C3VKFdQ0zBFv"
      }
    },
    {
      "cell_type": "code",
      "source": [
        "# base URL for data extraction\n",
        "base_url = 'https://www150.statcan.gc.ca/t1/wds/sdmx/statcan/rest/vector/'\n",
        "\n",
        "# namespace mappings for XML parsing\n",
        "namespaces = {\n",
        "    \"message\": 'http://www.sdmx.org/resources/sdmxml/schemas/v2_1/message',\n",
        "    \"generic\": 'http://www.sdmx.org/resources/sdmxml/schemas/v2_1/data/generic',\n",
        "    \"common\": 'http://www.sdmx.org/resources/sdmxml/schemas/v2_1/common',\n",
        "}"
      ],
      "metadata": {
        "id": "6oMHRsFlct7C"
      },
      "execution_count": 3,
      "outputs": []
    },
    {
      "cell_type": "markdown",
      "source": [
        "Some data series are reported daily, other series are reported monthly, quarterly or annually. To address the various reporting periods, I need a method to fill the NA values."
      ],
      "metadata": {
        "id": "k62O-LF9y_Sw"
      }
    },
    {
      "cell_type": "code",
      "source": [
        "class StatCanETL:\n",
        "    '''ETL pipeline for StatCan data'''\n",
        "\n",
        "    def __init__(self, table_df):\n",
        "        '''initialize with df of metadata table'''\n",
        "        self.table_df = table_df\n",
        "        self.data_objects = {}\n",
        "\n",
        "    def extract(self, vector, start_period, end_period):\n",
        "        '''extract data from the StatCan API for a given vector, start, and end dates'''\n",
        "        url = f'{base_url}{vector}?startPeriod={start_period}&endPeriod={end_period}&detail=full'\n",
        "        response = requests.get(url)\n",
        "\n",
        "        if response.status_code == 200:\n",
        "            return response.content\n",
        "        else:\n",
        "            raise ValueError(f'Failed to fetch data for vector {vector}. HTTP Status: {response.status_code}')\n",
        "\n",
        "    def transform(self, xml_content, frequency):\n",
        "        '''transform the XML response into a structured DataFrame.'''\n",
        "        # parse XML content\n",
        "        root = ET.fromstring(xml_content)\n",
        "\n",
        "        # locate the series element\n",
        "        series = root.find('.//generic:Series', namespaces)\n",
        "        if series is None:\n",
        "            raise ValueError('No Series element found in the XML response')\n",
        "\n",
        "        # extract obs\n",
        "        observations = series.findall('.//generic:Obs', namespaces)\n",
        "        data = []\n",
        "        for obs in observations:\n",
        "            obs_dim = obs.find('.//generic:ObsDimension', namespaces)\n",
        "            obs_val = obs.find('.//generic:ObsValue', namespaces)\n",
        "            date = obs_dim.attrib['value']\n",
        "\n",
        "            # convert date format if quarterly or yearly\n",
        "            if frequency == 'quarterly':\n",
        "                date = self.convert_quarter_to_date(date)\n",
        "            elif frequency == 'yearly':\n",
        "                date = date[:4] + '-01'\n",
        "\n",
        "            data.append({\n",
        "                'Date': date,\n",
        "                'Value': float(obs_val.attrib['value']),\n",
        "            })\n",
        "\n",
        "        # convert to df\n",
        "        df = pd.DataFrame(data)\n",
        "        return df\n",
        "\n",
        "    @staticmethod\n",
        "    def convert_quarter_to_date(quarter_str):\n",
        "        '''convert quarterly date string (YYYY-Qx) to a standard date format (YYYY-MM)'''\n",
        "        try:\n",
        "            year, quarter = quarter_str.split('-Q')\n",
        "            quarter_start_month = {\n",
        "                '1': '01',\n",
        "                '2': '04',\n",
        "                '3': '07',\n",
        "                '4': '10',\n",
        "            }.get(quarter)\n",
        "            if quarter_start_month:\n",
        "                return f'{year}-{quarter_start_month}'\n",
        "            else:\n",
        "                raise ValueError(f'Invalid quarter format: {quarter_str}')\n",
        "        except Exception as e:\n",
        "            raise ValueError(f'Error converting quarter string {quarter_str}: {e}')\n",
        "\n",
        "    def load(self, df, name):\n",
        "        '''load df into object named name_df.'''\n",
        "        variable_name = f'{name}_df'\n",
        "        globals()[variable_name] = df\n",
        "        self.data_objects[variable_name] = df\n",
        "        print(f'Data for {name} saved to object {variable_name}')\n",
        "\n",
        "    def run(self):\n",
        "        '''Run the full ETL pipeline for all variables'''\n",
        "        for _, row in self.table_df.iterrows():\n",
        "            print(f'Processing {row[\"name\"]}...')\n",
        "            try:\n",
        "                # extract\n",
        "                xml_content = self.extract(row['vector'], row['start'], row['end'])\n",
        "\n",
        "                # transform\n",
        "                df = self.transform(xml_content, row['frequency'])\n",
        "\n",
        "                # load\n",
        "                self.load(df, row['name'])\n",
        "            except Exception as e:\n",
        "                print(f'Error processing {row[\"name\"]}: {e}')"
      ],
      "metadata": {
        "id": "qZ8o-tuHdD2Q"
      },
      "execution_count": 4,
      "outputs": []
    },
    {
      "cell_type": "markdown",
      "source": [
        "My data mining project included:\n",
        "* wages\n",
        "* raw materials price index\n",
        "* consumer price index\n",
        "* rate - target\n",
        "\n",
        "Add?:\n",
        "* Housing starts 34-10-0156\n",
        "* Building permits 36-10-0066-01\n",
        "* Retail sales monthly 20-10-0067-01\n",
        "* Business outlook survey\n",
        "* EI claims\n",
        "* Unemployment rates 14-10-0287-01\n",
        "* Job vacancy rates 14-10-0371-01\n",
        "* Labour force participation rates\n",
        "* GDP\n",
        "* Industrial Production index 18-10-0267-01\n",
        "* Capacity utilization rate\n",
        "* US exchange rate\n",
        "* TSX composite\n"
      ],
      "metadata": {
        "id": "YEyTlaKZ1Tfm"
      }
    },
    {
      "cell_type": "code",
      "source": [
        "# metadata - define what information to pull from statcan\n",
        "tables = {\n",
        "    'name': ['wage', 'rmpi', 'cpi', 'rate'],\n",
        "    'tableid': [14100223, 18100268, 18100004, 10100139],\n",
        "    'tablename': ['employment and average weekly earnings',\n",
        "                  'raw materials price index, 2010 = 100',\n",
        "                  'consumer price index, not seasonally adjusted, 2002 = 100', 'bank rate'],\n",
        "    'vector': ['v79311153', 'v1230998135', 'v41690973', 'v39078'],\n",
        "    'vectdesc': ['', '', '', ''],\n",
        "    'description': ['', '', '', ''],\n",
        "    'frequency': ['monthly', 'monthly', 'monthly', 'daily'],\n",
        "    'start': ['2001-01', '2001-01', '2001-01', '2001-01-01'], # if using quarterly data like productivity, format as yyyy-Q#\n",
        "    'end': ['2024-12', '2024-12', '2024-12', '2024-12-31']\n",
        "}\n",
        "\n",
        "# make df\n",
        "table_df = pd.DataFrame(tables)"
      ],
      "metadata": {
        "id": "XhhTRjAqdLiH"
      },
      "execution_count": null,
      "outputs": []
    },
    {
      "cell_type": "code",
      "source": [
        "# rate announcement dates\n",
        "url = 'https://raw.githubusercontent.com/FleaBusyBeeBergs/dtsa5506-pipeline/main/data/rate-announcements.csv'\n",
        "#url = None\n",
        "rate_announcements = pd.read_csv(url)\n",
        "rate_announcements.head(8)"
      ],
      "metadata": {
        "colab": {
          "base_uri": "https://localhost:8080/",
          "height": 300
        },
        "id": "OE2j-aY5dl26",
        "outputId": "22ac0f54-50b1-484e-8a9f-b0cff80daa43"
      },
      "execution_count": null,
      "outputs": [
        {
          "output_type": "execute_result",
          "data": {
            "text/plain": [
              "         date\n",
              "0  2001-01-23\n",
              "1  2001-03-06\n",
              "2  2001-04-17\n",
              "3  2001-05-29\n",
              "4  2001-07-17\n",
              "5  2001-08-28\n",
              "6  2001-10-23\n",
              "7  2001-11-27"
            ],
            "text/html": [
              "\n",
              "  <div id=\"df-121019c8-5723-4df5-9f5e-3418a47b3e99\" class=\"colab-df-container\">\n",
              "    <div>\n",
              "<style scoped>\n",
              "    .dataframe tbody tr th:only-of-type {\n",
              "        vertical-align: middle;\n",
              "    }\n",
              "\n",
              "    .dataframe tbody tr th {\n",
              "        vertical-align: top;\n",
              "    }\n",
              "\n",
              "    .dataframe thead th {\n",
              "        text-align: right;\n",
              "    }\n",
              "</style>\n",
              "<table border=\"1\" class=\"dataframe\">\n",
              "  <thead>\n",
              "    <tr style=\"text-align: right;\">\n",
              "      <th></th>\n",
              "      <th>date</th>\n",
              "    </tr>\n",
              "  </thead>\n",
              "  <tbody>\n",
              "    <tr>\n",
              "      <th>0</th>\n",
              "      <td>2001-01-23</td>\n",
              "    </tr>\n",
              "    <tr>\n",
              "      <th>1</th>\n",
              "      <td>2001-03-06</td>\n",
              "    </tr>\n",
              "    <tr>\n",
              "      <th>2</th>\n",
              "      <td>2001-04-17</td>\n",
              "    </tr>\n",
              "    <tr>\n",
              "      <th>3</th>\n",
              "      <td>2001-05-29</td>\n",
              "    </tr>\n",
              "    <tr>\n",
              "      <th>4</th>\n",
              "      <td>2001-07-17</td>\n",
              "    </tr>\n",
              "    <tr>\n",
              "      <th>5</th>\n",
              "      <td>2001-08-28</td>\n",
              "    </tr>\n",
              "    <tr>\n",
              "      <th>6</th>\n",
              "      <td>2001-10-23</td>\n",
              "    </tr>\n",
              "    <tr>\n",
              "      <th>7</th>\n",
              "      <td>2001-11-27</td>\n",
              "    </tr>\n",
              "  </tbody>\n",
              "</table>\n",
              "</div>\n",
              "    <div class=\"colab-df-buttons\">\n",
              "\n",
              "  <div class=\"colab-df-container\">\n",
              "    <button class=\"colab-df-convert\" onclick=\"convertToInteractive('df-121019c8-5723-4df5-9f5e-3418a47b3e99')\"\n",
              "            title=\"Convert this dataframe to an interactive table.\"\n",
              "            style=\"display:none;\">\n",
              "\n",
              "  <svg xmlns=\"http://www.w3.org/2000/svg\" height=\"24px\" viewBox=\"0 -960 960 960\">\n",
              "    <path d=\"M120-120v-720h720v720H120Zm60-500h600v-160H180v160Zm220 220h160v-160H400v160Zm0 220h160v-160H400v160ZM180-400h160v-160H180v160Zm440 0h160v-160H620v160ZM180-180h160v-160H180v160Zm440 0h160v-160H620v160Z\"/>\n",
              "  </svg>\n",
              "    </button>\n",
              "\n",
              "  <style>\n",
              "    .colab-df-container {\n",
              "      display:flex;\n",
              "      gap: 12px;\n",
              "    }\n",
              "\n",
              "    .colab-df-convert {\n",
              "      background-color: #E8F0FE;\n",
              "      border: none;\n",
              "      border-radius: 50%;\n",
              "      cursor: pointer;\n",
              "      display: none;\n",
              "      fill: #1967D2;\n",
              "      height: 32px;\n",
              "      padding: 0 0 0 0;\n",
              "      width: 32px;\n",
              "    }\n",
              "\n",
              "    .colab-df-convert:hover {\n",
              "      background-color: #E2EBFA;\n",
              "      box-shadow: 0px 1px 2px rgba(60, 64, 67, 0.3), 0px 1px 3px 1px rgba(60, 64, 67, 0.15);\n",
              "      fill: #174EA6;\n",
              "    }\n",
              "\n",
              "    .colab-df-buttons div {\n",
              "      margin-bottom: 4px;\n",
              "    }\n",
              "\n",
              "    [theme=dark] .colab-df-convert {\n",
              "      background-color: #3B4455;\n",
              "      fill: #D2E3FC;\n",
              "    }\n",
              "\n",
              "    [theme=dark] .colab-df-convert:hover {\n",
              "      background-color: #434B5C;\n",
              "      box-shadow: 0px 1px 3px 1px rgba(0, 0, 0, 0.15);\n",
              "      filter: drop-shadow(0px 1px 2px rgba(0, 0, 0, 0.3));\n",
              "      fill: #FFFFFF;\n",
              "    }\n",
              "  </style>\n",
              "\n",
              "    <script>\n",
              "      const buttonEl =\n",
              "        document.querySelector('#df-121019c8-5723-4df5-9f5e-3418a47b3e99 button.colab-df-convert');\n",
              "      buttonEl.style.display =\n",
              "        google.colab.kernel.accessAllowed ? 'block' : 'none';\n",
              "\n",
              "      async function convertToInteractive(key) {\n",
              "        const element = document.querySelector('#df-121019c8-5723-4df5-9f5e-3418a47b3e99');\n",
              "        const dataTable =\n",
              "          await google.colab.kernel.invokeFunction('convertToInteractive',\n",
              "                                                    [key], {});\n",
              "        if (!dataTable) return;\n",
              "\n",
              "        const docLinkHtml = 'Like what you see? Visit the ' +\n",
              "          '<a target=\"_blank\" href=https://colab.research.google.com/notebooks/data_table.ipynb>data table notebook</a>'\n",
              "          + ' to learn more about interactive tables.';\n",
              "        element.innerHTML = '';\n",
              "        dataTable['output_type'] = 'display_data';\n",
              "        await google.colab.output.renderOutput(dataTable, element);\n",
              "        const docLink = document.createElement('div');\n",
              "        docLink.innerHTML = docLinkHtml;\n",
              "        element.appendChild(docLink);\n",
              "      }\n",
              "    </script>\n",
              "  </div>\n",
              "\n",
              "\n",
              "    <div id=\"df-cc7ccf80-4da1-4470-bcee-fd8efdf90730\">\n",
              "      <button class=\"colab-df-quickchart\" onclick=\"quickchart('df-cc7ccf80-4da1-4470-bcee-fd8efdf90730')\"\n",
              "                title=\"Suggest charts\"\n",
              "                style=\"display:none;\">\n",
              "\n",
              "<svg xmlns=\"http://www.w3.org/2000/svg\" height=\"24px\"viewBox=\"0 0 24 24\"\n",
              "     width=\"24px\">\n",
              "    <g>\n",
              "        <path d=\"M19 3H5c-1.1 0-2 .9-2 2v14c0 1.1.9 2 2 2h14c1.1 0 2-.9 2-2V5c0-1.1-.9-2-2-2zM9 17H7v-7h2v7zm4 0h-2V7h2v10zm4 0h-2v-4h2v4z\"/>\n",
              "    </g>\n",
              "</svg>\n",
              "      </button>\n",
              "\n",
              "<style>\n",
              "  .colab-df-quickchart {\n",
              "      --bg-color: #E8F0FE;\n",
              "      --fill-color: #1967D2;\n",
              "      --hover-bg-color: #E2EBFA;\n",
              "      --hover-fill-color: #174EA6;\n",
              "      --disabled-fill-color: #AAA;\n",
              "      --disabled-bg-color: #DDD;\n",
              "  }\n",
              "\n",
              "  [theme=dark] .colab-df-quickchart {\n",
              "      --bg-color: #3B4455;\n",
              "      --fill-color: #D2E3FC;\n",
              "      --hover-bg-color: #434B5C;\n",
              "      --hover-fill-color: #FFFFFF;\n",
              "      --disabled-bg-color: #3B4455;\n",
              "      --disabled-fill-color: #666;\n",
              "  }\n",
              "\n",
              "  .colab-df-quickchart {\n",
              "    background-color: var(--bg-color);\n",
              "    border: none;\n",
              "    border-radius: 50%;\n",
              "    cursor: pointer;\n",
              "    display: none;\n",
              "    fill: var(--fill-color);\n",
              "    height: 32px;\n",
              "    padding: 0;\n",
              "    width: 32px;\n",
              "  }\n",
              "\n",
              "  .colab-df-quickchart:hover {\n",
              "    background-color: var(--hover-bg-color);\n",
              "    box-shadow: 0 1px 2px rgba(60, 64, 67, 0.3), 0 1px 3px 1px rgba(60, 64, 67, 0.15);\n",
              "    fill: var(--button-hover-fill-color);\n",
              "  }\n",
              "\n",
              "  .colab-df-quickchart-complete:disabled,\n",
              "  .colab-df-quickchart-complete:disabled:hover {\n",
              "    background-color: var(--disabled-bg-color);\n",
              "    fill: var(--disabled-fill-color);\n",
              "    box-shadow: none;\n",
              "  }\n",
              "\n",
              "  .colab-df-spinner {\n",
              "    border: 2px solid var(--fill-color);\n",
              "    border-color: transparent;\n",
              "    border-bottom-color: var(--fill-color);\n",
              "    animation:\n",
              "      spin 1s steps(1) infinite;\n",
              "  }\n",
              "\n",
              "  @keyframes spin {\n",
              "    0% {\n",
              "      border-color: transparent;\n",
              "      border-bottom-color: var(--fill-color);\n",
              "      border-left-color: var(--fill-color);\n",
              "    }\n",
              "    20% {\n",
              "      border-color: transparent;\n",
              "      border-left-color: var(--fill-color);\n",
              "      border-top-color: var(--fill-color);\n",
              "    }\n",
              "    30% {\n",
              "      border-color: transparent;\n",
              "      border-left-color: var(--fill-color);\n",
              "      border-top-color: var(--fill-color);\n",
              "      border-right-color: var(--fill-color);\n",
              "    }\n",
              "    40% {\n",
              "      border-color: transparent;\n",
              "      border-right-color: var(--fill-color);\n",
              "      border-top-color: var(--fill-color);\n",
              "    }\n",
              "    60% {\n",
              "      border-color: transparent;\n",
              "      border-right-color: var(--fill-color);\n",
              "    }\n",
              "    80% {\n",
              "      border-color: transparent;\n",
              "      border-right-color: var(--fill-color);\n",
              "      border-bottom-color: var(--fill-color);\n",
              "    }\n",
              "    90% {\n",
              "      border-color: transparent;\n",
              "      border-bottom-color: var(--fill-color);\n",
              "    }\n",
              "  }\n",
              "</style>\n",
              "\n",
              "      <script>\n",
              "        async function quickchart(key) {\n",
              "          const quickchartButtonEl =\n",
              "            document.querySelector('#' + key + ' button');\n",
              "          quickchartButtonEl.disabled = true;  // To prevent multiple clicks.\n",
              "          quickchartButtonEl.classList.add('colab-df-spinner');\n",
              "          try {\n",
              "            const charts = await google.colab.kernel.invokeFunction(\n",
              "                'suggestCharts', [key], {});\n",
              "          } catch (error) {\n",
              "            console.error('Error during call to suggestCharts:', error);\n",
              "          }\n",
              "          quickchartButtonEl.classList.remove('colab-df-spinner');\n",
              "          quickchartButtonEl.classList.add('colab-df-quickchart-complete');\n",
              "        }\n",
              "        (() => {\n",
              "          let quickchartButtonEl =\n",
              "            document.querySelector('#df-cc7ccf80-4da1-4470-bcee-fd8efdf90730 button');\n",
              "          quickchartButtonEl.style.display =\n",
              "            google.colab.kernel.accessAllowed ? 'block' : 'none';\n",
              "        })();\n",
              "      </script>\n",
              "    </div>\n",
              "\n",
              "    </div>\n",
              "  </div>\n"
            ],
            "application/vnd.google.colaboratory.intrinsic+json": {
              "type": "dataframe",
              "variable_name": "rate_announcements",
              "summary": "{\n  \"name\": \"rate_announcements\",\n  \"rows\": 201,\n  \"fields\": [\n    {\n      \"column\": \"date\",\n      \"properties\": {\n        \"dtype\": \"object\",\n        \"num_unique_values\": 201,\n        \"samples\": [\n          \"2012-10-23\",\n          \"2002-12-03\",\n          \"2004-10-19\"\n        ],\n        \"semantic_type\": \"\",\n        \"description\": \"\"\n      }\n    }\n  ]\n}"
            }
          },
          "metadata": {},
          "execution_count": 10
        }
      ]
    },
    {
      "cell_type": "code",
      "source": [
        "# run ETL pipe\n",
        "pipeline = StatCanETL(table_df)\n",
        "pipeline.run()"
      ],
      "metadata": {
        "colab": {
          "base_uri": "https://localhost:8080/"
        },
        "id": "ornblYX9dOFd",
        "outputId": "909c273c-ecd5-4b07-a206-c670c201a830"
      },
      "execution_count": null,
      "outputs": [
        {
          "output_type": "stream",
          "name": "stdout",
          "text": [
            "Processing wage...\n",
            "Data for wage saved to object wage_df\n",
            "Processing rmpi...\n",
            "Data for rmpi saved to object rmpi_df\n",
            "Processing cpi...\n",
            "Data for cpi saved to object cpi_df\n",
            "Processing rate...\n",
            "Error processing rate: Failed to fetch data for vector v39078. HTTP Status: 406\n"
          ]
        }
      ]
    },
    {
      "cell_type": "code",
      "source": [
        "# check to see if data loaded correctly\n",
        "for key, value in pipeline.data_objects.items():\n",
        "    print(key)\n",
        "    print(value.head(3), '\\n')"
      ],
      "metadata": {
        "colab": {
          "base_uri": "https://localhost:8080/"
        },
        "id": "LWdQJKTsdscN",
        "outputId": "7f46d38b-d10e-4b42-c333-1089a4431f31"
      },
      "execution_count": null,
      "outputs": [
        {
          "output_type": "stream",
          "name": "stdout",
          "text": [
            "wage_df\n",
            "      Date   Value\n",
            "0  2001-01  657.14\n",
            "1  2001-02  653.59\n",
            "2  2001-03  655.14 \n",
            "\n",
            "rmpi_df\n",
            "      Date  Value\n",
            "0  2001-01   65.2\n",
            "1  2001-02   65.8\n",
            "2  2001-03   65.5 \n",
            "\n",
            "cpi_df\n",
            "      Date  Value\n",
            "0  2001-01   96.3\n",
            "1  2001-02   96.8\n",
            "2  2001-03   97.1 \n",
            "\n"
          ]
        }
      ]
    },
    {
      "cell_type": "code",
      "source": [
        "# rename columns\n",
        "wage_df.rename(columns = {'Value': 'wage',\n",
        "                          'Date': 'date'},\n",
        "               inplace = True)\n",
        "rmpi_df.rename(columns = {'Value': 'rmpi',\n",
        "                          'Date': 'date'},\n",
        "               inplace = True)\n",
        "cpi_df.rename(columns={'Value': 'cpi',\n",
        "                       'Date': 'date'},\n",
        "               inplace = True)\n",
        "rate_df.rename(columns={'Value': 'rate',\n",
        "                        'Date': 'date'},\n",
        "               inplace = True)"
      ],
      "metadata": {
        "colab": {
          "base_uri": "https://localhost:8080/",
          "height": 210
        },
        "id": "LVtL1HAGdtZw",
        "outputId": "4638051d-cd17-44c1-bfe3-c3795690c8e8"
      },
      "execution_count": null,
      "outputs": [
        {
          "output_type": "error",
          "ename": "NameError",
          "evalue": "name 'rate_df' is not defined",
          "traceback": [
            "\u001b[0;31m---------------------------------------------------------------------------\u001b[0m",
            "\u001b[0;31mNameError\u001b[0m                                 Traceback (most recent call last)",
            "\u001b[0;32m/tmp/ipython-input-12-1740197508.py\u001b[0m in \u001b[0;36m<cell line: 0>\u001b[0;34m()\u001b[0m\n\u001b[1;32m      9\u001b[0m                        'Date': 'date'},\n\u001b[1;32m     10\u001b[0m                inplace = True)\n\u001b[0;32m---> 11\u001b[0;31m rate_df.rename(columns={'Value': 'rate',\n\u001b[0m\u001b[1;32m     12\u001b[0m                         'Date': 'date'},\n\u001b[1;32m     13\u001b[0m                inplace = True)\n",
            "\u001b[0;31mNameError\u001b[0m: name 'rate_df' is not defined"
          ]
        }
      ]
    },
    {
      "cell_type": "code",
      "source": [
        "# merge tables with monthly data\n",
        "data = wage_df.merge(rmpi_df,\n",
        "                     on = 'date',\n",
        "                     how = 'outer')\\\n",
        "              .merge(cpi_df,\n",
        "                     on = 'date',\n",
        "                     how = 'outer')"
      ],
      "metadata": {
        "id": "1bddevdmdwxV"
      },
      "execution_count": null,
      "outputs": []
    },
    {
      "cell_type": "code",
      "source": [
        "print(data)\n",
        "print(data.info())"
      ],
      "metadata": {
        "id": "ImeKGX6Jdyc2"
      },
      "execution_count": null,
      "outputs": []
    },
    {
      "cell_type": "code",
      "source": [
        "# fill na\n",
        "data = data.ffill()"
      ],
      "metadata": {
        "id": "mpwgzjQkeUyi"
      },
      "execution_count": null,
      "outputs": []
    },
    {
      "cell_type": "code",
      "source": [
        "# format date\n",
        "data['date'] = pd.to_datetime(data['date']).dt.strftime('%Y-%m')"
      ],
      "metadata": {
        "id": "q4ERF2nZeV_N"
      },
      "execution_count": null,
      "outputs": []
    },
    {
      "cell_type": "code",
      "source": [
        "data.info()"
      ],
      "metadata": {
        "id": "yNRz7RUHeYVl"
      },
      "execution_count": null,
      "outputs": []
    },
    {
      "cell_type": "code",
      "source": [
        "# descriptive stats\n",
        "data.describe()"
      ],
      "metadata": {
        "id": "Cb2p7Y88eZ5L"
      },
      "execution_count": null,
      "outputs": []
    }
  ]
}